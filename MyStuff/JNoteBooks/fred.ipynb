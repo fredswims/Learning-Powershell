{
    "metadata": {
        "kernelspec": {
            "name": "powershell",
            "display_name": "PowerShell",
            "language": "powershell"
        },
        "language_info": {
            "name": "powershell",
            "codemirror_mode": "shell",
            "mimetype": "text/x-sh",
            "file_extension": ".ps1"
        }
    },
    "nbformat_minor": 2,
    "nbformat": 4,
    "cells": [
        {
            "cell_type": "markdown",
            "source": [
                "This is a text cell.\n",
                "\n",
                "Let's see what version of **Powershell** we are running."
            ],
            "metadata": {
                "azdata_cell_guid": "944c8795-cd2f-471d-a3a0-02199c6d5b1c"
            }
        },
        {
            "cell_type": "code",
            "source": [
                "pwsh;write-host \"hello world\" ;$PSVersionTable"
            ],
            "metadata": {
                "azdata_cell_guid": "48130605-8404-469f-adf3-033d2197cc65"
            },
            "outputs": [],
            "execution_count": null
        },
        {
            "cell_type": "code",
            "source": [
                "$psversiontable\r\n",
                "get-date\r\n",
                ""
            ],
            "metadata": {
                "azdata_cell_guid": "51b77d5e-d934-4a54-bd8a-bc916bc384d0",
                "tags": [
                    "hide_input"
                ]
            },
            "outputs": [],
            "execution_count": null
        },
        {
            "cell_type": "code",
            "source": [
                "gci"
            ],
            "metadata": {
                "azdata_cell_guid": "a7bc2316-6c4c-4f1c-9d23-beaddac2a132"
            },
            "outputs": [],
            "execution_count": null
        },
        {
            "cell_type": "markdown",
            "source": [
                "here is a text cell"
            ],
            "metadata": {
                "azdata_cell_guid": "cf40a94e-c4ea-42c0-8ff6-a50e5df714ba"
            }
        }
    ]
}