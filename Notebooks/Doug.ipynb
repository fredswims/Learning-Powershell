{
 "cells": [
  {
   "cell_type": "markdown",
   "metadata": {},
   "source": [
    "Bought to you by Doug Finke\r\n",
    "https://www.youtube.com/watch?v=DAI77tPY-p0"
   ]
  },
  {
   "cell_type": "code",
   "execution_count": null,
   "metadata": {
    "dotnet_interactive": {
     "language": "pwsh"
    }
   },
   "outputs": [
    {
     "data": {
      "text/plain": [
       "\r\n"
      ]
     },
     "output_type": "unknown"
    },
    {
     "data": {
      "text/plain": [
       "Name                           Value\r\n"
      ]
     },
     "output_type": "unknown"
    },
    {
     "data": {
      "text/plain": [
       "----                           -----\r\n"
      ]
     },
     "output_type": "unknown"
    },
    {
     "data": {
      "text/plain": [
       "PSVersion                      7.1.3\r\n"
      ]
     },
     "output_type": "unknown"
    },
    {
     "data": {
      "text/plain": [
       "PSEdition                      Core\r\n"
      ]
     },
     "output_type": "unknown"
    },
    {
     "data": {
      "text/plain": [
       "GitCommitId                    7.1.3\r\n"
      ]
     },
     "output_type": "unknown"
    },
    {
     "data": {
      "text/plain": [
       "OS                             Microsoft Windows 10.0.19043\r\n"
      ]
     },
     "output_type": "unknown"
    },
    {
     "data": {
      "text/plain": [
       "Platform                       Win32NT\r\n"
      ]
     },
     "output_type": "unknown"
    },
    {
     "data": {
      "text/plain": [
       "PSCompatibleVersions           {1.0, 2.0, 3.0, 4.0…}\r\n"
      ]
     },
     "output_type": "unknown"
    },
    {
     "data": {
      "text/plain": [
       "PSRemotingProtocolVersion      2.3\r\n"
      ]
     },
     "output_type": "unknown"
    },
    {
     "data": {
      "text/plain": [
       "SerializationVersion           1.1.0.1\r\n"
      ]
     },
     "output_type": "unknown"
    },
    {
     "data": {
      "text/plain": [
       "WSManStackVersion              3.0\r\n"
      ]
     },
     "output_type": "unknown"
    },
    {
     "data": {
      "text/plain": [
       "\r\n"
      ]
     },
     "output_type": "unknown"
    }
   ],
   "source": [
    "$PSVersionTable\r\n",
    "$list=get-item * |Select-Object -property size, lastWriteTime, FullName"
   ]
  },
  {
   "cell_type": "markdown",
   "metadata": {},
   "source": [
    "Let's learn about $list and see its value."
   ]
  },
  {
   "cell_type": "code",
   "execution_count": null,
   "metadata": {
    "dotnet_interactive": {
     "language": "pwsh"
    }
   },
   "outputs": [
    {
     "data": {
      "text/plain": [
       "\r\n"
      ]
     },
     "output_type": "unknown"
    },
    {
     "data": {
      "text/plain": [
       "   TypeName: Selected.System.IO.DirectoryInfo\r\n"
      ]
     },
     "output_type": "unknown"
    },
    {
     "data": {
      "text/plain": [
       "\r\n"
      ]
     },
     "output_type": "unknown"
    },
    {
     "data": {
      "text/plain": [
       "Name          MemberType   Definition\r\n"
      ]
     },
     "output_type": "unknown"
    },
    {
     "data": {
      "text/plain": [
       "----          ----------   ----------\r\n"
      ]
     },
     "output_type": "unknown"
    },
    {
     "data": {
      "text/plain": [
       "Equals        Method       bool Equals(System.Object obj)\r\n"
      ]
     },
     "output_type": "unknown"
    },
    {
     "data": {
      "text/plain": [
       "GetHashCode   Method       int GetHashCode()\r\n"
      ]
     },
     "output_type": "unknown"
    },
    {
     "data": {
      "text/plain": [
       "GetType       Method       type GetType()\r\n"
      ]
     },
     "output_type": "unknown"
    },
    {
     "data": {
      "text/plain": [
       "ToString      Method       string ToString()\r\n"
      ]
     },
     "output_type": "unknown"
    },
    {
     "data": {
      "text/plain": [
       "FullName      NoteProperty string FullName=C:\\Users\\freds_000\\OneDrive\\PowershellScripts\\Notebooks…\r\n"
      ]
     },
     "output_type": "unknown"
    },
    {
     "data": {
      "text/plain": [
       "LastWriteTime NoteProperty datetime LastWriteTime=6/3/2021 1:07:10 AM\r\n"
      ]
     },
     "output_type": "unknown"
    },
    {
     "data": {
      "text/plain": [
       "size          NoteProperty object size=null\r\n"
      ]
     },
     "output_type": "unknown"
    },
    {
     "data": {
      "text/plain": [
       "\r\n"
      ]
     },
     "output_type": "unknown"
    },
    {
     "data": {
      "text/plain": [
       "   TypeName: Selected.System.IO.FileInfo\r\n"
      ]
     },
     "output_type": "unknown"
    },
    {
     "data": {
      "text/plain": [
       "\r\n"
      ]
     },
     "output_type": "unknown"
    },
    {
     "data": {
      "text/plain": [
       "Name          MemberType   Definition\r\n"
      ]
     },
     "output_type": "unknown"
    },
    {
     "data": {
      "text/plain": [
       "----          ----------   ----------\r\n"
      ]
     },
     "output_type": "unknown"
    },
    {
     "data": {
      "text/plain": [
       "Equals        Method       bool Equals(System.Object obj)\r\n"
      ]
     },
     "output_type": "unknown"
    },
    {
     "data": {
      "text/plain": [
       "GetHashCode   Method       int GetHashCode()\r\n"
      ]
     },
     "output_type": "unknown"
    },
    {
     "data": {
      "text/plain": [
       "GetType       Method       type GetType()\r\n"
      ]
     },
     "output_type": "unknown"
    },
    {
     "data": {
      "text/plain": [
       "ToString      Method       string ToString()\r\n"
      ]
     },
     "output_type": "unknown"
    },
    {
     "data": {
      "text/plain": [
       "FullName      NoteProperty string FullName=C:\\Users\\freds_000\\OneDrive\\PowershellScripts\\Notebooks…\r\n"
      ]
     },
     "output_type": "unknown"
    },
    {
     "data": {
      "text/plain": [
       "LastWriteTime NoteProperty datetime LastWriteTime=6/12/2021 5:07:29 PM\r\n"
      ]
     },
     "output_type": "unknown"
    },
    {
     "data": {
      "text/plain": [
       "size          NoteProperty object size=null\r\n"
      ]
     },
     "output_type": "unknown"
    },
    {
     "data": {
      "text/plain": [
       "\r\n"
      ]
     },
     "output_type": "unknown"
    },
    {
     "data": {
      "text/plain": [
       "\r\n"
      ]
     },
     "output_type": "unknown"
    },
    {
     "data": {
      "text/plain": [
       "size LastWriteTime        FullName\r\n"
      ]
     },
     "output_type": "unknown"
    },
    {
     "data": {
      "text/plain": [
       "---- -------------        --------\r\n"
      ]
     },
     "output_type": "unknown"
    },
    {
     "data": {
      "text/plain": [
       "     6/3/2021 1:07:10 AM  C:\\Users\\freds_000\\OneDrive\\PowershellScripts\\Notebooks\\.vscode\r\n"
      ]
     },
     "output_type": "unknown"
    },
    {
     "data": {
      "text/plain": [
       "     6/12/2021 5:07:29 PM C:\\Users\\freds_000\\OneDrive\\PowershellScripts\\Notebooks\\Doug.ipynb\r\n"
      ]
     },
     "output_type": "unknown"
    },
    {
     "data": {
      "text/plain": [
       "     6/3/2021 8:35:06 PM  C:\\Users\\freds_000\\OneDrive\\PowershellScripts\\Notebooks\\Fred.dib\r\n"
      ]
     },
     "output_type": "unknown"
    },
    {
     "data": {
      "text/plain": [
       "     6/3/2021 3:07:51 PM  C:\\Users\\freds_000\\OneDrive\\PowershellScripts\\Notebooks\\Giphy.dib\r\n"
      ]
     },
     "output_type": "unknown"
    },
    {
     "data": {
      "text/plain": [
       "     6/3/2021 8:50:37 PM  C:\\Users\\freds_000\\OneDrive\\PowershellScripts\\Notebooks\\New Text Documen…\r\n"
      ]
     },
     "output_type": "unknown"
    },
    {
     "data": {
      "text/plain": [
       "     6/3/2021 8:35:16 PM  C:\\Users\\freds_000\\OneDrive\\PowershellScripts\\Notebooks\\x.dib\r\n"
      ]
     },
     "output_type": "unknown"
    },
    {
     "data": {
      "text/plain": [
       "\r\n"
      ]
     },
     "output_type": "unknown"
    }
   ],
   "source": [
    "$list|gm\r\n",
    "$list|Format-Table *"
   ]
  },
  {
   "cell_type": "markdown",
   "metadata": {},
   "source": []
  },
  {
   "cell_type": "markdown",
   "metadata": {},
   "source": []
  }
 ],
 "metadata": {
  "kernelspec": {
   "display_name": "PowerShell",
   "language": "powershell",
   "name": "powershell"
  },
  "language_info": {
   "name": "powershell",
   "version": ""
  }
 },
 "nbformat": 4,
 "nbformat_minor": 2
}